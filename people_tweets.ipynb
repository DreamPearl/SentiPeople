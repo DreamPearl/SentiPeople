{
 "cells": [
  {
   "cell_type": "markdown",
   "metadata": {},
   "source": [
    "Add any firm name here."
   ]
  },
  {
   "cell_type": "code",
   "execution_count": 1,
   "metadata": {},
   "outputs": [],
   "source": [
    "tosearch='@TheOfficialSBI'"
   ]
  },
  {
   "cell_type": "markdown",
   "metadata": {},
   "source": [
    " Use your Twitter API keys here"
   ]
  },
  {
   "cell_type": "code",
   "execution_count": 2,
   "metadata": {},
   "outputs": [],
   "source": [
    "client_key = 'Enter client key'\n",
    "client_secret = 'Enter client-secret key'"
   ]
  },
  {
   "cell_type": "code",
   "execution_count": 3,
   "metadata": {},
   "outputs": [],
   "source": [
    "import json\n",
    "import pymongo"
   ]
  },
  {
   "cell_type": "code",
   "execution_count": 4,
   "metadata": {},
   "outputs": [],
   "source": [
    "import base64\n",
    "is_mongo_db_written=False\n",
    "key_secret = '{}:{}'.format(client_key, client_secret).encode('ascii')\n",
    "b64_encoded_key = base64.b64encode(key_secret)\n",
    "b64_encoded_key = b64_encoded_key.decode('ascii')"
   ]
  },
  {
   "cell_type": "code",
   "execution_count": 5,
   "metadata": {},
   "outputs": [],
   "source": [
    "import requests\n",
    "\n",
    "base_url = 'https://api.twitter.com/'\n",
    "auth_url = '{}oauth2/token'.format(base_url)\n",
    "\n",
    "auth_headers = {\n",
    "    'Authorization': 'Basic {}'.format(b64_encoded_key),\n",
    "    'Content-Type': 'application/x-www-form-urlencoded;charset=UTF-8'\n",
    "}\n",
    "\n",
    "auth_data = {\n",
    "    'grant_type': 'client_credentials'\n",
    "}\n",
    "\n",
    "auth_resp = requests.post(auth_url, headers=auth_headers, data=auth_data)"
   ]
  },
  {
   "cell_type": "code",
   "execution_count": 6,
   "metadata": {},
   "outputs": [
    {
     "name": "stdout",
     "output_type": "stream",
     "text": [
      "<Response [200]>\n"
     ]
    }
   ],
   "source": [
    "print(auth_resp)"
   ]
  },
  {
   "cell_type": "code",
   "execution_count": 7,
   "metadata": {
    "scrolled": true
   },
   "outputs": [],
   "source": [
    "data=auth_resp.json()"
   ]
  },
  {
   "cell_type": "code",
   "execution_count": 8,
   "metadata": {},
   "outputs": [],
   "source": [
    "access_token=data['access_token']\n",
    "\n",
    "myclient = pymongo.MongoClient(\"mongodb://localhost:27017/\")\n",
    "mydb = myclient[\"sentipeople\"]\n",
    "mycol = mydb[\"tweets_data\"]"
   ]
  },
  {
   "cell_type": "markdown",
   "metadata": {},
   "source": [
    "Fetching SBI related tweets and saving them into MongoDB."
   ]
  },
  {
   "cell_type": "code",
   "execution_count": 9,
   "metadata": {},
   "outputs": [
    {
     "name": "stdout",
     "output_type": "stream",
     "text": [
      "2020-11-23\n",
      "<Response [200]>\n",
      "data written to db\n",
      "2020-11-22\n",
      "<Response [200]>\n",
      "data written to db\n",
      "2020-11-21\n",
      "<Response [200]>\n",
      "data written to db\n",
      "2020-11-20\n",
      "<Response [200]>\n",
      "data written to db\n",
      "2020-11-19\n",
      "<Response [200]>\n",
      "data written to db\n",
      "2020-11-18\n",
      "<Response [200]>\n",
      "data written to db\n",
      "2020-11-17\n",
      "<Response [200]>\n",
      "data written to db\n"
     ]
    }
   ],
   "source": [
    "from datetime import date\n",
    "from datetime import timedelta\n",
    "\n",
    "today = date.today() \n",
    "\n",
    "search_headers = {\n",
    "    'Authorization': 'Bearer {}'.format(access_token)    \n",
    "}\n",
    "\n",
    "for d in range(7):\n",
    "    final_date = today - timedelta(days = d) \n",
    "    print(final_date)\n",
    "    search_params = {\n",
    "        'q': tosearch,\n",
    "        'count': 100,\n",
    "        'until': final_date\n",
    "    }\n",
    "\n",
    "    search_url = '{}1.1/search/tweets.json'.format(base_url)\n",
    "\n",
    "    search_resp = requests.get(search_url, headers=search_headers, params=search_params)\n",
    "    print(search_resp)\n",
    "    is_mongo_db_written=False\n",
    "    count=search_params['count']\n",
    "    tweets=search_resp.json()\n",
    "    count_text=len(tweets['statuses'])\n",
    "    tweet_data=[]\n",
    "    if is_mongo_db_written==False:\n",
    "        for i in range(count_text):\n",
    "            my_tweet=tweets['statuses'][i]['text']\n",
    "            my_date=tweets['statuses'][i]['created_at']\n",
    "            res=mycol.insert_one({\"tweet\":my_tweet, \"date\":my_date})\n",
    "\n",
    "        is_mongo_db_written=True\n",
    "        print(\"data written to db\")\n",
    "\n",
    "    else:\n",
    "        print('Already have data')"
   ]
  },
  {
   "cell_type": "code",
   "execution_count": null,
   "metadata": {},
   "outputs": [],
   "source": []
  }
 ],
 "metadata": {
  "kernelspec": {
   "display_name": "Python 3",
   "language": "python",
   "name": "python3"
  },
  "language_info": {
   "codemirror_mode": {
    "name": "ipython",
    "version": 3
   },
   "file_extension": ".py",
   "mimetype": "text/x-python",
   "name": "python",
   "nbconvert_exporter": "python",
   "pygments_lexer": "ipython3",
   "version": "3.6.5"
  }
 },
 "nbformat": 4,
 "nbformat_minor": 2
}
